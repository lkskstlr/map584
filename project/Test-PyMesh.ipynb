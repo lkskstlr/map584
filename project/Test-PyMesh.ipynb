{
 "cells": [
  {
   "cell_type": "markdown",
   "metadata": {},
   "source": [
    "https://www.ctcms.nist.gov/fipy/documentation/glossary.html#term-trilinos"
   ]
  },
  {
   "cell_type": "code",
   "execution_count": null,
   "metadata": {},
   "outputs": [],
   "source": [
    "# Complicated way to import finis if not installed\n",
    "\n",
    "import os\n",
    "import sys\n",
    "finis_path = \"../tp\" #Folder containing finis folder\n",
    "finis_abs_path = os.path.abspath(finis_path)\n",
    "sys.path.append(finis_abs_path)\n",
    "\n",
    "import finis\n",
    "import numpy as np\n",
    "import scipy.sparse as sp\n",
    "import scipy\n",
    "import pyamg\n",
    "import matplotlib.pyplot as plt\n",
    "from mpl_toolkits.mplot3d import Axes3D\n",
    "import pymesh\n",
    "\n",
    "%matplotlib notebook"
   ]
  },
  {
   "cell_type": "code",
   "execution_count": null,
   "metadata": {},
   "outputs": [],
   "source": [
    "%matplotlib notebook"
   ]
  },
  {
   "cell_type": "markdown",
   "metadata": {},
   "source": [
    "### Convert to PyMesh"
   ]
  },
  {
   "cell_type": "code",
   "execution_count": null,
   "metadata": {},
   "outputs": [],
   "source": [
    "N = 10000\n",
    "np.random.seed(3006)\n",
    "points = np.random.rand(N, 2)\n",
    "\n",
    "mesh = finis.triangulate(max_area=0.1)\n",
    "fe = finis.fe_space(mesh, order = 2)\n",
    "finis.plot_mesh(mesh)"
   ]
  },
  {
   "cell_type": "code",
   "execution_count": null,
   "metadata": {},
   "outputs": [],
   "source": [
    "f = lambda x,y: (x-0.5)**2 + (y-0.5)**3\n",
    "F = f(fe['dof'][:,0], fe['dof'][:,1])\n",
    "\n",
    "\n",
    "shading= 'flat' # flat or gouraud\n",
    "\n",
    "fig = plt.figure(figsize=(9,5))\n",
    "plt.tripcolor(fe['dof'][:,0], fe['dof'][:,1], F, shading=shading)\n",
    "plt.colorbar()\n",
    "plt.show()"
   ]
  },
  {
   "cell_type": "code",
   "execution_count": null,
   "metadata": {},
   "outputs": [],
   "source": [
    "from finis._mesh import triangle_x, triangle_y\n",
    "from finis._fem import lagrange_2d\n",
    "\n",
    "def fe_eval(fe, F, pts):\n",
    "    pmesh = pymesh.meshio.form_mesh(fe['vertices'], fe['triangles'])\n",
    "    squared_distances, face_indices, _ = pymesh.distance_to_mesh(pmesh, pts)\n",
    "    assert np.allclose(squared_distances, 0)\n",
    "    \n",
    "    ### Derivative Transforms ###\n",
    "    xT = triangle_x(fe)\n",
    "    yT = triangle_y(fe)\n",
    "\n",
    "    dx_dxh = xT[:, 1] - xT[:, 0]\n",
    "    dx_dyh = xT[:, 2] - xT[:, 0]\n",
    "    dy_dxh = yT[:, 1] - yT[:, 0]\n",
    "    dy_dyh = yT[:, 2] - yT[:, 0]\n",
    "    \n",
    "    x = pts[:,0] - xT[face_indices, 0]\n",
    "    y = pts[:,1] - yT[face_indices, 0]\n",
    "    \n",
    "    xh = x/dx_dxh + y/dy_dxh\n",
    "    yh = x/dx_dyh + y/dy_dyh\n",
    "    \n",
    "    PHI, _, _ = lagrange_2d(xh, yh, order=fe['order'])\n",
    "    \n",
    "    F_out = "
   ]
  },
  {
   "cell_type": "code",
   "execution_count": null,
   "metadata": {},
   "outputs": [],
   "source": [
    "phi, _, _ = \n",
    "print(phi)"
   ]
  },
  {
   "cell_type": "code",
   "execution_count": null,
   "metadata": {},
   "outputs": [],
   "source": [
    "m = 200\n",
    "X, Y = np.meshgrid(np.linspace(0,1,m), np.linspace(0,1,m))\n",
    "pts = np.hstack((X.reshape((X.size, 1)), Y.reshape((Y.size, 1))))\n",
    "\n",
    "print(\"Num triangles = {:7d}\".format(fe['triangles'].shape[0]))\n",
    "print(\"Num points    = {:7d}\".format(X.size))"
   ]
  },
  {
   "cell_type": "code",
   "execution_count": null,
   "metadata": {},
   "outputs": [],
   "source": [
    "%%time\n",
    "fe_eval(fe, F, pts)"
   ]
  },
  {
   "cell_type": "code",
   "execution_count": null,
   "metadata": {},
   "outputs": [],
   "source": [
    "pmesh = pymesh.meshio.form_mesh(fe['vertices'], fe['triangles'])\n",
    "squared_distances, face_indices, _ = pymesh.distance_to_mesh(pmesh, pts)\n",
    "assert np.allclose(squared_distances, 0)"
   ]
  },
  {
   "cell_type": "code",
   "execution_count": null,
   "metadata": {},
   "outputs": [],
   "source": [
    "face_indices.shape"
   ]
  },
  {
   "cell_type": "code",
   "execution_count": null,
   "metadata": {},
   "outputs": [],
   "source": [
    "xT = triangle_x(fe)\n",
    "yT = triangle_y(fe)\n"
   ]
  },
  {
   "cell_type": "code",
   "execution_count": null,
   "metadata": {},
   "outputs": [],
   "source": [
    "xT.shape"
   ]
  }
 ],
 "metadata": {
  "kernelspec": {
   "display_name": "Python 3",
   "language": "python",
   "name": "python3"
  },
  "language_info": {
   "codemirror_mode": {
    "name": "ipython",
    "version": 3
   },
   "file_extension": ".py",
   "mimetype": "text/x-python",
   "name": "python",
   "nbconvert_exporter": "python",
   "pygments_lexer": "ipython3",
   "version": "3.6.7"
  }
 },
 "nbformat": 4,
 "nbformat_minor": 2
}
