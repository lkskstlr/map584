{
 "cells": [
  {
   "cell_type": "code",
   "execution_count": null,
   "metadata": {},
   "outputs": [],
   "source": [
    "import triangle\n",
    "import numpy as np\n",
    "from pprint import pprint\n",
    "import matplotlib.pyplot as plt\n",
    "from matplotlib.tri import Triangulation\n",
    "from math import ceil, sqrt\n",
    "\n",
    "%matplotlib notebook"
   ]
  },
  {
   "cell_type": "code",
   "execution_count": null,
   "metadata": {},
   "outputs": [],
   "source": [
    "# From last TP. Will be integrated into library later\n",
    "def triangle_x(m):\n",
    "    return m['vertices'][m['triangles'],0]\n",
    "\n",
    "def triangle_y(m):\n",
    "    return m['vertices'][m['triangles'],1]\n",
    "\n",
    "def triangle_cog_x(m):\n",
    "    return np.mean(triangle_x(m), axis=1)\n",
    "\n",
    "def triangle_cog_y(m):\n",
    "    return np.mean(triangle_y(m), axis=1)\n",
    "\n",
    "def triangle_cog(m):\n",
    "    return np.hstack((triangle_cog_x(m)[:,None], triangle_cog_y(m)[:,None]))\n",
    "\n",
    "def plot_mesh(m, vertex_numbers=False, triangle_numbers=False, edge_numbers=False, edge_labels=False):\n",
    "    plt.triplot(m['vertices'][:,0], m['vertices'][:,1], m['triangles'])\n",
    "    \n",
    "    if vertex_numbers:\n",
    "        for i in range(m['vertices'].shape[0]):\n",
    "            plt.text(m['vertices'][i, 0], m['vertices'][i, 1], str(i),\n",
    "                     color='r',\n",
    "                     horizontalalignment='center',\n",
    "                     verticalalignment='center')\n",
    "            \n",
    "    if triangle_numbers:\n",
    "        cogs = triangle_cog(m)\n",
    "        for i in range(cogs.shape[0]):\n",
    "            plt.text(cogs[i, 0], cogs[i, 1], str(i))\n",
    "            \n",
    "    if edge_labels or edge_numbers:\n",
    "        from edges import meshEdges\n",
    "        edge, edge_markers, ElementEdges = meshEdges(m)\n",
    "        \n",
    "    if edge_numbers:\n",
    "        for i in range(edge.shape[0]):\n",
    "            _x = np.mean(m['vertices'][edge[i,:], 0])\n",
    "            _y = np.mean(m['vertices'][edge[i,:], 1])\n",
    "            plt.text(_x, _y, str(i), color='g')\n",
    "            \n",
    "    if edge_labels:\n",
    "        for i in range(edge.shape[0]):\n",
    "            _x = np.mean(m['vertices'][edge[i,:], 0])\n",
    "            _y = np.mean(m['vertices'][edge[i,:], 1])\n",
    "            plt.text(_x, _y, edge_markers[i,0], color='g')"
   ]
  },
  {
   "cell_type": "markdown",
   "metadata": {},
   "source": [
    "### Question 1"
   ]
  },
  {
   "cell_type": "code",
   "execution_count": null,
   "metadata": {},
   "outputs": [],
   "source": [
    "%%latex\n",
    "\\begin{align}\n",
    "T_K(\\hat{A}) &= A \\\\\n",
    "T_K(\\hat{B}) &= B \\\\\n",
    "T_K(\\hat{C}) &= C \\\\\n",
    "\\\\\n",
    "(x,y) &= \\hat{x}\\cdot (B - A) + \\hat{y}\\cdot (C - A) + A\n",
    "\\end{align}"
   ]
  },
  {
   "cell_type": "markdown",
   "metadata": {},
   "source": [
    "### Question 2\n",
    "\n",
    "Based on the [transformation theorem](https://de.wikipedia.org/wiki/Transformationssatz).\n",
    "\n",
    "The determinant is constant and we obtain:"
   ]
  },
  {
   "cell_type": "code",
   "execution_count": null,
   "metadata": {},
   "outputs": [],
   "source": [
    "%%latex\n",
    "\\begin{align}\n",
    "\\int_{T_K(\\hat{K})} f(x) dx\n",
    "&= \\int_{\\hat{K}}  f(T_K(\\hat{x})) \\left\\vert det \\, D T_K(\\hat{x})\\right\\vert d \\hat{x}\n",
    "= c_T \\int_{\\hat{K}} \\hat{f}(\\hat{x}) d \\hat{x} \\\\\n",
    "\\\\\n",
    "c_T &= \\left\\vert det \\begin{bmatrix}\n",
    "    B_1-A_1 & C_1-A_1 \\\\\n",
    "    B_2-A_2 & C_2-A_2 \\\\\n",
    "\\end{bmatrix} \\right\\vert\n",
    "\\end{align}"
   ]
  },
  {
   "cell_type": "markdown",
   "metadata": {},
   "source": [
    "### Question 3\n",
    "\n",
    "The formual of degree 1 is given by:"
   ]
  },
  {
   "cell_type": "code",
   "execution_count": null,
   "metadata": {},
   "outputs": [],
   "source": [
    "%%latex\n",
    "\\begin{align}\n",
    "\\omega_1 &= \\frac12 \\\\\n",
    "\\hat{x}_1 &= \\frac13 \\\\\n",
    "\\hat{y}_1 &= \\frac13\n",
    "\\end{align}"
   ]
  },
  {
   "cell_type": "markdown",
   "metadata": {},
   "source": [
    "It remains to be shown that this formula is of degree one. It is sufficient to take three independent functions in P_1 (space of polynomials of degree smaller or equal 1) and show that the formual is exact as it is a linear form on a finite dim vector space."
   ]
  },
  {
   "cell_type": "code",
   "execution_count": null,
   "metadata": {},
   "outputs": [],
   "source": [
    "%%latex\n",
    "\\begin{align}\n",
    "\\int_{\\hat{K}} 1 \\cdot d\\hat{x} \\,d\\hat{y} = \\frac12 \\qquad & \\qquad \\omega_1 \\cdot 1 = \\frac12 \\\\\n",
    "%\n",
    "\\int_{\\hat{K}} \\hat{x} \\cdot d\\hat{x} \\,d\\hat{y} = \\frac16 \\qquad & \\qquad\n",
    "\\omega_1 \\cdot \\hat{x}_1 = \\frac12\\cdot \\frac13 = \\frac16 \\\\\n",
    "%\n",
    "\\int_{\\hat{K}} \\hat{y} \\cdot d\\hat{x} \\,d\\hat{y} = \\frac16 \\qquad & \\qquad\n",
    "\\omega_1 \\cdot \\hat{y}_1 = \\frac12\\cdot \\frac13 = \\frac16\n",
    "\\end{align}"
   ]
  },
  {
   "cell_type": "markdown",
   "metadata": {},
   "source": [
    "### Question 4\n",
    "\n",
    "The dimension of P_2 is 1 + 2 + 3 = 6.\n",
    "\n",
    "We will need 6 DOF to capture the dimensionality of P_2, therefore the formula must use 2 points or more. However, it can be shown to not work with 2 points."
   ]
  },
  {
   "cell_type": "markdown",
   "metadata": {},
   "source": [
    "### Question 5\n",
    "\n",
    "For constant functions we must have $\\omega_i = \\frac16$ because then the $1$ function will integrate to $\\frac12$ which is correct."
   ]
  },
  {
   "cell_type": "code",
   "execution_count": null,
   "metadata": {},
   "outputs": [],
   "source": [
    "%%latex\n",
    "\\begin{align}\n",
    "\\hat{x}_1 &= (\\lambda, 1-2\\lambda) \\\\\n",
    "\\hat{x}_2 &= (1-2\\lambda, \\lambda) \\\\\n",
    "\\hat{x}_3 &= (\\lambda, 1\\lambda)\n",
    "\\end{align}"
   ]
  },
  {
   "cell_type": "code",
   "execution_count": null,
   "metadata": {},
   "outputs": [],
   "source": [
    "%%latex\n",
    "\\begin{align}\n",
    "\\int_{\\hat{K}} 1 \\cdot d\\hat{x} \\,d\\hat{y} = \\frac12 \\qquad & \\qquad 3 \\cdot \\omega \\cdot 1 = \\frac12 \\\\\n",
    "%\n",
    "\\int_{\\hat{K}} \\hat{x} \\cdot d\\hat{x} \\,d\\hat{y} = \\frac16 \\qquad & \\qquad\n",
    "\\omega \\left(\\lambda + 1 - 2 \\lambda + \\lambda  \\right) = \\omega = \\frac16 \\\\\n",
    "%\n",
    "\\int_{\\hat{K}} \\hat{y} \\cdot d\\hat{x} \\,d\\hat{y} = \\frac16 \\qquad & \\qquad\n",
    "\\omega \\left(1 - 2 \\lambda + \\lambda  + \\lambda\\right) = \\omega = \\frac16 \\\\\n",
    "\\end{align}"
   ]
  },
  {
   "cell_type": "code",
   "execution_count": null,
   "metadata": {},
   "outputs": [],
   "source": [
    "%%latex\n",
    "\\begin{align}\n",
    "\\int_{\\hat{K}} \\hat{x}^2 \\cdot d\\hat{x} \\,d\\hat{y} = \\frac{1}{12} \\qquad & \\qquad\n",
    "\\omega \\left(\\lambda^2 + (1 - 2 \\lambda)^2 + \\lambda^2  \\right) = \\omega \\left(6 \\lambda^2 - 4 \\lambda + 1\\right) \\\\\n",
    "%\n",
    "\\int_{\\hat{K}} \\hat{y}^2 \\cdot d\\hat{x} \\,d\\hat{y} = \\frac{1}{12} \\qquad & \\qquad\n",
    "\\omega \\left((1 - 2 \\lambda)^2 + \\lambda^2 +  \\lambda^2  \\right) = \\omega \\left(6 \\lambda^2 - 4 \\lambda + 1\\right)\n",
    "\\end{align}"
   ]
  },
  {
   "cell_type": "code",
   "execution_count": null,
   "metadata": {},
   "outputs": [],
   "source": [
    "%%latex\n",
    "\\begin{align}\n",
    "\\left(6 \\lambda^2 - 4 \\lambda + \\frac12 \\right) &\\overset{!}{=} 0\\\\\n",
    "%\n",
    "\\lambda &= \\frac{4 \\pm \\sqrt{16 - 12}}{12}\\\\\n",
    "\\lambda &= \\frac{1}{6}, \\ \\frac{1}{2}\n",
    "\\end{align}"
   ]
  },
  {
   "cell_type": "code",
   "execution_count": null,
   "metadata": {},
   "outputs": [],
   "source": [
    "plt.figure()\n",
    "l1 = 1/6\n",
    "l2 = 1/2\n",
    "x1 = np.array([l1, 1-2*l1, l1])\n",
    "y1 = np.array([1-2*l1, l1, l1])\n",
    "x2 = np.array([l2, 1-2*l2, l2])\n",
    "y2 = np.array([1-2*l2, l2, l2])\n",
    "\n",
    "plt.plot(np.array([0, 1, 0, 0]), np.array([0, 0, 1, 0]), \"k\")\n",
    "plt.plot(x1, y1, 'o', label=\"Formula with l = 1/6\")\n",
    "plt.plot(x2, y2, 'o', label=\"Formula with l = 1/2\")\n",
    "plt.legend()\n",
    "plt.show()"
   ]
  },
  {
   "cell_type": "markdown",
   "metadata": {},
   "source": [
    "### Question 6 & 7"
   ]
  },
  {
   "cell_type": "code",
   "execution_count": null,
   "metadata": {},
   "outputs": [],
   "source": [
    "def form_int_1d(order=2):\n",
    "    if order == 1:\n",
    "        x = np.array([1/2])\n",
    "        w = np.array([1.0])\n",
    "        \n",
    "        return x, w\n",
    "    \n",
    "    if (order == 2) or (order == 3):\n",
    "        x = np.array([1/2 - 1/sqrt(12), 1/2 + 1/sqrt(12)])\n",
    "        w = np.array([1/2, 1/2])\n",
    "        \n",
    "        return x, w\n",
    "    \n",
    "    if (order == 4) or (order == 5):\n",
    "        x = np.array([1/2 - 1/2*sqrt(3/5), 1/2, 1/2 + 1/2*sqrt(3/5)])\n",
    "        w = np.array([5/18, 8/18, 5/18])\n",
    "        \n",
    "        return x, w\n",
    "    \n",
    "\n",
    "    raise NotImplementedError(\"Only orders 1, ..., 5 are implemented\")\n",
    "\n",
    "def form_int_2d(order=2):\n",
    "    if order == 1:\n",
    "        x = np.array([1/3])\n",
    "        y = np.array([1/3])\n",
    "        w = np.array([1/2])\n",
    "        \n",
    "        return x, y, w\n",
    "    \n",
    "#    if order == 2:\n",
    "#        x = np.array([1/2, 1/2, 0])\n",
    "#        y = np.array([1/2, 0, 1/2])\n",
    "#        w = np.array([1/6, 1/6, 1/6])\n",
    "#        \n",
    "#        return x, y, w\n",
    "    \n",
    "    if order == 2:\n",
    "        x = np.array([1/6, 1/6, 2/3])\n",
    "        y = np.array([1/6, 2/3, 1/6])\n",
    "        w = np.array([1/6, 1/6, 1/6])\n",
    "        \n",
    "        return x, y, w\n",
    "    \n",
    "    if order == 3:\n",
    "        x = np.array([1/3, 1/5, 3/5, 1/5])\n",
    "        y = np.array([1/3, 1/5, 1/5, 3/5])\n",
    "        w = np.array([-9/32, 25/96, 25/96, 25/96])\n",
    "        \n",
    "        return x, y, w\n",
    "    \n",
    "    if order == 4:\n",
    "        x = np.array([1/2, 1/2, 0, 1/6, 1/6, 2/3])\n",
    "        y = np.array([1/2, 0, 1/2, 1/6, 2/3, 1/6])\n",
    "        w = np.array([1/60, 1/60, 1/60, 3/20, 3/20, 3/20])\n",
    "        \n",
    "        return x, y, w\n",
    "    \n",
    "    if (order == 5) or (order == 6):\n",
    "        a = (6 + sqrt(15))/21\n",
    "        b = (6 - sqrt(15))/21\n",
    "        A = (155 + sqrt(15))/2400\n",
    "        B = (155 - sqrt(15))/2400\n",
    "        \n",
    "        x = np.array([1/3, a, 1-2*a, a, b, 1-2*b, b])\n",
    "        y = np.array([1/3, a, a, 1-2*a, b, b, 1-2*b])\n",
    "        w = np.array([9/80, A, A, A, B, B, B])\n",
    "        \n",
    "        return x, y, w\n",
    "    \n",
    "    raise NotImplementedError(\"Only orders 1, ..., 6 are implemented\")\n",
    "\n",
    "orders = (1, 2, 3, 4, 6)\n",
    "m = ceil(len(orders)/2)\n",
    "plt.figure(figsize=(6,9))\n",
    "for i in range(len(orders)):\n",
    "    plt.subplot(m, 2, i+1)\n",
    "    x, y, w = form_int_2d(order=orders[i])\n",
    "    plt.plot(np.array([0, 1, 0, 0]), np.array([0, 0, 1, 0]), \"k\")\n",
    "    plt.plot(x, y, 'o')\n",
    "    plt.axis(\"equal\")\n",
    "    plt.title(\"Order = {}\".format(orders[i]))\n",
    "plt.tight_layout()\n",
    "plt.show()"
   ]
  },
  {
   "cell_type": "markdown",
   "metadata": {},
   "source": [
    "#### Test Functions\n",
    "Use the test function from TP.pdf to check the integration rules"
   ]
  },
  {
   "cell_type": "code",
   "execution_count": null,
   "metadata": {},
   "outputs": [],
   "source": [
    "# Test functions\n",
    "\n",
    "def integrate(fun, order=2):\n",
    "    x,y,w = form_int_2d(order=order)\n",
    "    f = fun(x,y)\n",
    "    return np.sum(f*w)\n",
    "\n",
    "test_functions = [\n",
    "    (lambda x,y: np.ones_like(x), 1/2),\n",
    "    (lambda x,y: x, 1/6),\n",
    "    (lambda x,y: y, 1/6),\n",
    "    (lambda x,y: x**2, 1/12),\n",
    "    (lambda x,y: y**2, 1/12),\n",
    "    (lambda x,y: x*y, 1/24),\n",
    "]\n",
    "for order in (2,3,4,5,6):\n",
    "    for fun, val in test_functions:\n",
    "        assert abs(integrate(fun, order=order) - val) < 1e-12, \\\n",
    "        \"Order = {}, Numeric = {}, analytic = {}\".format(order, integrate(fun), val)"
   ]
  },
  {
   "cell_type": "markdown",
   "metadata": {},
   "source": [
    "### Question 8"
   ]
  },
  {
   "cell_type": "code",
   "execution_count": null,
   "metadata": {},
   "outputs": [],
   "source": [
    "def build_integ(mesh, order=2):\n",
    "    xh, yh, wh = form_int_2d(order=order)\n",
    "    Nint = xh.size\n",
    "    N = mesh['triangles'].shape[0]\n",
    "    x = np.zeros((Nint * N, ))\n",
    "    y = np.zeros((Nint * N, ))\n",
    "    w = np.zeros((Nint * N, ))\n",
    "    \n",
    "    xT = triangle_x(mesh)\n",
    "    yT = triangle_y(mesh)\n",
    "    \n",
    "    d1x = xT[:,1]-xT[:,0]\n",
    "    d2x = xT[:,2]-xT[:,0]\n",
    "    \n",
    "    d1y = yT[:,1]-yT[:,0]\n",
    "    d2y = yT[:,2]-yT[:,0]\n",
    "    \n",
    "    c_T = np.abs(d1x*d2y - d2x*d1y) # area transformation\n",
    "    \n",
    "    for i in range(N):\n",
    "        x[Nint*i:Nint*(i+1)] = xT[i,0] + d1x[i]*xh + d2x[i]*yh\n",
    "        y[Nint*i:Nint*(i+1)] = yT[i,0] + d1y[i]*xh + d2y[i]*yh\n",
    "        w[Nint*i:Nint*(i+1)] = wh * c_T[i]\n",
    "    \n",
    "    return {'x':x, 'y':y, 'w':w}"
   ]
  },
  {
   "cell_type": "code",
   "execution_count": null,
   "metadata": {},
   "outputs": [],
   "source": [
    "g = {\n",
    "    'vertices': np.copy(np.array([[0, 3, 3, 0], [0, 0, 1.5, 1.5]]).T),\n",
    "    'segments': np.copy(np.array([[0, 1, 2, 3], [1, 2, 3, 0]]).T)\n",
    "}\n",
    "maxArea = 0.125\n",
    "mesh = triangle.triangulate(g,\"pDa\"+str(maxArea))\n",
    "integ = build_integ(mesh, order=6)\n",
    "plt.figure()\n",
    "plot_mesh(mesh, vertex_numbers=True, triangle_numbers=True)\n",
    "#i = 10\n",
    "#plt.plot(integ['x'][i*3:(i+1)*3], integ['y'][i*3:(i+1)*3], \"+g\")\n",
    "plt.plot(integ['x'], integ['y'], \"+g\")\n",
    "plt.axis(\"equal\")\n",
    "plt.show()"
   ]
  },
  {
   "cell_type": "markdown",
   "metadata": {},
   "source": [
    "### Question 9"
   ]
  },
  {
   "cell_type": "code",
   "execution_count": null,
   "metadata": {},
   "outputs": [],
   "source": [
    "tt = np.linspace(0, 2*np.pi, 75, endpoint=False)\n",
    "xb = np.cos(tt)\n",
    "yb = np.sin(tt)\n",
    "ind = np.arange(tt.size)\n",
    "g = {\n",
    "    'vertices': np.hstack((xb[:,None], yb[:, None])),\n",
    "    'segments': np.hstack((ind[:, None], np.roll(ind, -1)[:, None]))\n",
    "}\n",
    "maxArea = 0.25\n",
    "mesh = triangle.triangulate(g,\"qpDa\"+str(maxArea))\n",
    "integ = build_integ(mesh, order=2)\n",
    "plt.figure(figsize=(9,9))\n",
    "plot_mesh(mesh, vertex_numbers=True, triangle_numbers=True)\n",
    "plt.plot(integ['x'], integ['y'], \"+g\")\n",
    "plt.axis(\"equal\")\n",
    "plt.show()\n",
    "\n",
    "I = np.sum(integ['w'])\n",
    "print(\"Approximate area is {}\".format(I))\n",
    "print(\"Relative error is {}\".format((I-np.pi)/np.pi))"
   ]
  },
  {
   "cell_type": "code",
   "execution_count": null,
   "metadata": {},
   "outputs": [],
   "source": [
    "ms = np.array([10, 20, 30, 40, 50, 75, 100, 200, 300, 400, 500, 600, 700, 800, 900, 1000])\n",
    "Is = np.zeros((ms.size, ), dtype=np.float64)\n",
    "for i in range(len(ms)):\n",
    "    tt = np.linspace(0, 2*np.pi, ms[i], endpoint=False)\n",
    "    xb = np.cos(tt)\n",
    "    yb = np.sin(tt)\n",
    "    ind = np.arange(tt.size)\n",
    "    g = {\n",
    "        'vertices': np.hstack((xb[:,None], yb[:, None])),\n",
    "        'segments': np.hstack((ind[:, None], np.roll(ind, -1)[:, None]))\n",
    "    }\n",
    "    mesh = triangle.triangulate(g,\"qpD\")\n",
    "    integ = build_integ(mesh, order=1)\n",
    "    Is[i] = np.sum(integ['w']) "
   ]
  },
  {
   "cell_type": "code",
   "execution_count": null,
   "metadata": {},
   "outputs": [],
   "source": [
    "plt.figure()\n",
    "plt.loglog(ms, np.abs(Is-np.pi), '+-')\n",
    "plt.show()"
   ]
  }
 ],
 "metadata": {
  "kernelspec": {
   "display_name": "Python 3",
   "language": "python",
   "name": "python3"
  },
  "language_info": {
   "codemirror_mode": {
    "name": "ipython",
    "version": 3
   },
   "file_extension": ".py",
   "mimetype": "text/x-python",
   "name": "python",
   "nbconvert_exporter": "python",
   "pygments_lexer": "ipython3",
   "version": "3.6.7"
  }
 },
 "nbformat": 4,
 "nbformat_minor": 2
}
