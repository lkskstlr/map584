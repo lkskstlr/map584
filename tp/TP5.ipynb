{
 "cells": [
  {
   "cell_type": "code",
   "execution_count": null,
   "metadata": {},
   "outputs": [],
   "source": [
    "import finis\n",
    "import numpy as np\n",
    "import matplotlib.pyplot as plt\n",
    "import scipy.sparse as sp\n",
    "import scipy.sparse.linalg\n",
    "from mpl_toolkits.mplot3d import Axes3D\n",
    "\n",
    "%matplotlib notebook"
   ]
  },
  {
   "cell_type": "markdown",
   "metadata": {},
   "source": [
    "### Question 2\n",
    "\n",
    "The matrix is given by\n",
    "$$\n",
    "v_h^T \\left(U^T \\,W \\,U + DUX^T \\,W\\, DUX + DUY^T \\,W\\, DUY\\right) u_h = v_h^T \\,A \\,u_h\n",
    "$$"
   ]
  },
  {
   "cell_type": "markdown",
   "metadata": {},
   "source": [
    "### Question 3\n",
    "\n",
    "The right hand side is given by\n",
    "$$\n",
    "v_h^T \\, U^T \\, W \\, F_i = v_h^T \\, F\n",
    "$$\n",
    "where $F_i$ is the right hand side function evaluated at the **i**ntegration points."
   ]
  },
  {
   "cell_type": "markdown",
   "metadata": {},
   "source": [
    "### Question 4\n",
    "\n",
    "Solve the von Neumann model problem given by\n",
    "$$ u - \\Delta u = f \\qquad \\text{on} \\ \\Omega \\\\ \\frac{\\partial u}{\\partial n} = 0 \\qquad \\text{on} \\ \\partial\\Omega $$\n",
    "on the grid $\\Omega = (0, 2\\pi)^2$ with the right hand side $f = \\cos(x) \\cos(y)$.\n",
    "\n",
    "The analytic solution is given by $u = \\frac13 \\cos(x) \\cos(y)$."
   ]
  },
  {
   "cell_type": "code",
   "execution_count": null,
   "metadata": {},
   "outputs": [],
   "source": [
    "%%time\n",
    "vertices = np.array([[0.0, 0], [2*np.pi, 0], [2*np.pi, 2*np.pi], [0, 2*np.pi]])\n",
    "mesh = finis.triangulate(vertices=vertices, max_area=1)\n",
    "fe = finis.fe_space(mesh, order=2)"
   ]
  },
  {
   "cell_type": "code",
   "execution_count": null,
   "metadata": {},
   "outputs": [],
   "source": [
    "finis.plot_mesh(mesh, vertex_numbers=False)"
   ]
  },
  {
   "cell_type": "code",
   "execution_count": null,
   "metadata": {},
   "outputs": [],
   "source": [
    "%%time\n",
    "u = lambda x,y: np.cos(x)*np.cos(y)/3.0\n",
    "dux = lambda x,y: -np.sin(x)*np.cos(y)/3.0\n",
    "duy = lambda x,y: -np.cos(x)*np.sin(y)/3.0\n",
    "\n",
    "f = lambda x,y: np.cos(x)*np.cos(y)\n",
    "F_i = f(fe['integ'][:,0], fe['integ'][:,1])\n",
    "W = sp.spdiags(fe['w'], [0], m=fe['w'].size, n=fe['w'].size)\n",
    "A = fe['U'].transpose().dot(W).dot(fe['U']) + \\\n",
    "    fe['DUX'].transpose().dot(W).dot(fe['DUX']) + \\\n",
    "    fe['DUY'].transpose().dot(W).dot(fe['DUY'])\n",
    "F = fe['U'].transpose().dot(W).dot(F_i)\n",
    "u_h = sp.linalg.spsolve(A, F)\n",
    "u_ana = u(fe['dof'][:,0], fe['dof'][:,1])\n",
    "\n",
    "print(\"Inf error = {}\".format(np.amax(np.abs(u_h - u_ana))))"
   ]
  },
  {
   "cell_type": "markdown",
   "metadata": {},
   "source": [
    "### Question 5"
   ]
  },
  {
   "cell_type": "code",
   "execution_count": null,
   "metadata": {},
   "outputs": [],
   "source": [
    "fig = plt.figure(figsize=(9,5))\n",
    "ax = fig.add_subplot(1, 2, 1, projection='3d')\n",
    "ax.plot_trisurf(fe['dof'][:,0], fe['dof'][:,1], u_h, linewidth=0.2, antialiased=True)\n",
    "ax.set_title(\"Numeric Solution\")\n",
    "\n",
    "ax = fig.add_subplot(1, 2, 2, projection='3d')\n",
    "ax.plot_trisurf(fe['dof'][:,0], fe['dof'][:,1], u_ana, linewidth=0.2, antialiased=True)\n",
    "ax.set_title(\"Analytic Solution\")\n",
    "plt.show()"
   ]
  },
  {
   "cell_type": "markdown",
   "metadata": {},
   "source": [
    "### Question 6"
   ]
  },
  {
   "cell_type": "code",
   "execution_count": null,
   "metadata": {},
   "outputs": [],
   "source": [
    "# L_2 error\n",
    "xi = fe['integ'][:,0]\n",
    "yi = fe['integ'][:,1]\n",
    "integrand = (fe['U'].dot(u_h) - u(xi, yi))**2\n",
    "L2 = np.sqrt(np.sum(fe['w'] * integrand))\n",
    "\n",
    "# H_1 error\n",
    "integrand = (fe['DUX'].dot(u_h) - dux(xi, yi))**2 + (fe['DUY'].dot(u_h) - duy(xi, yi))**2\n",
    "H1 = np.sqrt(L2**2 + np.sum(fe['w'] * integrand))\n",
    "\n",
    "print(\"L2 = {}\\nH1 = {}\".format(L2, H1))"
   ]
  },
  {
   "cell_type": "code",
   "execution_count": null,
   "metadata": {},
   "outputs": [],
   "source": [
    "maxArea = np.logspace(0, 2, 20, base=0.1)\n",
    "L2 = np.zeros(maxArea.shape)\n",
    "H1 = np.zeros(maxArea.shape)\n",
    "hs = np.zeros(maxArea.shape)\n",
    "\n",
    "for i in range(maxArea.size):\n",
    "    mesh = finis.triangulate(vertices=vertices, max_area=maxArea[i])\n",
    "    fe = finis.fe_space(mesh, order=1, return_h=True)\n",
    "   \n",
    "    F_i = f(fe['integ'][:,0], fe['integ'][:,1])\n",
    "    W = sp.spdiags(fe['w'], [0], m=fe['w'].size, n=fe['w'].size)\n",
    "    A = fe['U'].transpose().dot(W).dot(fe['U']) + \\\n",
    "        fe['DUX'].transpose().dot(W).dot(fe['DUX']) + \\\n",
    "        fe['DUY'].transpose().dot(W).dot(fe['DUY'])\n",
    "    F = fe['U'].transpose().dot(W).dot(F_i)\n",
    "    u_h = sp.linalg.spsolve(A, F)\n",
    "    u_ana = u(fe['dof'][:,0], fe['dof'][:,1])\n",
    "\n",
    "    \n",
    "    xi = fe['integ'][:,0]\n",
    "    yi = fe['integ'][:,1]\n",
    "    integrand = (fe['U'].dot(u_h) - u(xi, yi))**2\n",
    "    L2[i] = np.sqrt(np.sum(fe['w'] * integrand))\n",
    "\n",
    "    # H_1 error\n",
    "    integrand = (fe['DUX'].dot(u_h) - dux(xi, yi))**2 + (fe['DUY'].dot(u_h) - duy(xi, yi))**2\n",
    "    H1[i] = np.sqrt(L2[i]**2 + np.sum(fe['w'] * integrand))\n",
    "    hs[i] = np.mean(fe['h'])"
   ]
  },
  {
   "cell_type": "code",
   "execution_count": null,
   "metadata": {},
   "outputs": [],
   "source": [
    "plt.figure()\n",
    "plt.loglog(hs, L2, '+-')\n",
    "plt.loglog(np.array([hs[0], hs[-1]]), np.array([L2[0], L2[-1]]), 'r:')\n",
    "plt.title(\"L2 error\")\n",
    "plt.show()\n",
    "\n",
    "i = -6\n",
    "print(\"Order = {}\".format((np.log(L2[i])-np.log(L2[-1])) / (np.log(hs[i])-np.log(hs[-1]))))"
   ]
  },
  {
   "cell_type": "code",
   "execution_count": null,
   "metadata": {},
   "outputs": [],
   "source": [
    "plt.figure()\n",
    "plt.loglog(hs, H1, '+-')\n",
    "plt.loglog(np.array([hs[0], hs[-1]]), np.array([H1[0], H1[-1]]), 'r:')\n",
    "plt.title(\"H1 error\")\n",
    "plt.show()\n",
    "\n",
    "i = -6\n",
    "print(\"Order = {}\".format((np.log(H1[i])-np.log(H1[-1])) / (np.log(hs[i])-np.log(hs[-1]))))"
   ]
  },
  {
   "cell_type": "markdown",
   "metadata": {},
   "source": [
    "### Question 8"
   ]
  },
  {
   "cell_type": "code",
   "execution_count": null,
   "metadata": {},
   "outputs": [],
   "source": [
    "markers = np.copy(mesh['vertex_markers']).squeeze()\n",
    "inner_to_all = np.where(markers==0)[0]\n",
    "#all_to_inner = -np.ones(shape=markers.shape, dtype=np.int32)\n",
    "#all_to_inner[inner_to_all] = np.arange(inner_to_all.size)\n",
    "\n",
    "row = inner_to_all\n",
    "col = np.arange(inner_to_all.size)\n",
    "data = np.ones((inner_to_all.size, ), dtype=np.float32)\n",
    "P = sp.csr_matrix((data, (row, col)), shape=(markers.size, inner_to_all.size))\n",
    "assert np.array_equal(np.squeeze(np.asarray(P.sum(axis=1), dtype=np.int32)), 1-markers)"
   ]
  },
  {
   "cell_type": "code",
   "execution_count": null,
   "metadata": {},
   "outputs": [],
   "source": [
    "%%time\n",
    "u = lambda x,y: np.sin(x)*np.sin(y)/3.0\n",
    "dux = lambda x,y: np.cos(x)*np.sin(y)/3.0\n",
    "duy = lambda x,y: np.sin(x)*np.cos(y)/3.0\n",
    "\n",
    "f = lambda x,y: np.sin(x)*np.sin(y)\n",
    "F_i = f(fe['integ'][:,0], fe['integ'][:,1])\n",
    "W = sp.spdiags(fe['w'], [0], m=fe['w'].size, n=fe['w'].size)\n",
    "A = fe['U'].transpose().dot(W).dot(fe['U']) + \\\n",
    "    fe['DUX'].transpose().dot(W).dot(fe['DUX']) + \\\n",
    "    fe['DUY'].transpose().dot(W).dot(fe['DUY'])\n",
    "F = fe['U'].transpose().dot(W).dot(F_i)\n",
    "\n",
    "Ad = P.transpose().dot(A).dot(P)\n",
    "Fd = P.transpose().dot(F)\n",
    "u_h_d = sp.linalg.spsolve(Ad, Fd)\n",
    "u_h = P.dot(u_h_d)\n",
    "u_ana = u(fe['dof'][:,0], fe['dof'][:,1])\n",
    "\n",
    "print(\"Inf error = {}\".format(np.amax(np.abs(u_h - u_ana))))"
   ]
  },
  {
   "cell_type": "code",
   "execution_count": null,
   "metadata": {},
   "outputs": [],
   "source": [
    "fig = plt.figure(figsize=(9,5))\n",
    "ax = fig.add_subplot(1, 2, 1, projection='3d')\n",
    "ax.plot_trisurf(fe['dof'][:,0], fe['dof'][:,1], u_h, linewidth=0.2, antialiased=True)\n",
    "ax.set_title(\"Numeric Solution\")\n",
    "\n",
    "ax = fig.add_subplot(1, 2, 2, projection='3d')\n",
    "ax.plot_trisurf(fe['dof'][:,0], fe['dof'][:,1], u_ana, linewidth=0.2, antialiased=True)\n",
    "ax.set_title(\"Analytic Solution\")\n",
    "plt.show()"
   ]
  },
  {
   "cell_type": "markdown",
   "metadata": {},
   "source": [
    "### Error Plots"
   ]
  },
  {
   "cell_type": "code",
   "execution_count": null,
   "metadata": {},
   "outputs": [],
   "source": [
    "f = lambda x,y: np.cos(x)*np.cos(y)\n",
    "u = lambda x,y: np.cos(x)*np.cos(y)/3.0\n",
    "dux = lambda x,y: -np.sin(x)*np.cos(y)/3.0\n",
    "duy = lambda x,y: -np.cos(x)*np.sin(y)/3.0\n",
    "\n",
    "finis.error_plot(vertices, f, u, dux, duy, order=2, dirichlet=False)"
   ]
  },
  {
   "cell_type": "code",
   "execution_count": null,
   "metadata": {},
   "outputs": [],
   "source": [
    "f = lambda x,y: np.sin(x)*np.sin(y)\n",
    "u = lambda x,y: np.sin(x)*np.sin(y)/3.0\n",
    "dux = lambda x,y: np.cos(x)*np.sin(y)/3.0\n",
    "duy = lambda x,y: np.sin(x)*np.cos(y)/3.0\n",
    "\n",
    "finis.error_plot(vertices, f, u, dux, duy, order=2, dirichlet=True)"
   ]
  }
 ],
 "metadata": {
  "kernelspec": {
   "display_name": "Python 3",
   "language": "python",
   "name": "python3"
  },
  "language_info": {
   "codemirror_mode": {
    "name": "ipython",
    "version": 3
   },
   "file_extension": ".py",
   "mimetype": "text/x-python",
   "name": "python",
   "nbconvert_exporter": "python",
   "pygments_lexer": "ipython3",
   "version": "3.6.7"
  }
 },
 "nbformat": 4,
 "nbformat_minor": 2
}
