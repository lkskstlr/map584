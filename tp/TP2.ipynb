{
 "cells": [
  {
   "cell_type": "code",
   "execution_count": null,
   "metadata": {},
   "outputs": [],
   "source": [
    "import triangle\n",
    "import numpy as np\n",
    "from pprint import pprint\n",
    "import matplotlib.pyplot as plt\n",
    "from matplotlib.tri import Triangulation\n",
    "\n",
    "%matplotlib notebook"
   ]
  },
  {
   "cell_type": "code",
   "execution_count": null,
   "metadata": {},
   "outputs": [],
   "source": [
    "def triangle_x(m):\n",
    "    return m['vertices'][m['triangles'],0]\n",
    "\n",
    "def triangle_y(m):\n",
    "    return m['vertices'][m['triangles'],1]\n",
    "\n",
    "def triangle_cog_x(m):\n",
    "    return np.mean(triangle_x(m), axis=1)\n",
    "\n",
    "def triangle_cog_y(m):\n",
    "    return np.mean(triangle_y(m), axis=1)\n",
    "\n",
    "def triangle_cog(m):\n",
    "    return np.hstack((triangle_cog_x(m)[:,None], triangle_cog_y(m)[:,None]))\n",
    "\n",
    "def plot_mesh(m, vertex_numbers=False, triangle_numbers=False, edge_numbers=False, edge_labels=False):\n",
    "    plt.triplot(m['vertices'][:,0], m['vertices'][:,1], m['triangles'])\n",
    "    \n",
    "    if vertex_numbers:\n",
    "        for i in range(m['vertices'].shape[0]):\n",
    "            plt.text(m['vertices'][i, 0], m['vertices'][i, 1], str(i),\n",
    "                     color='r',\n",
    "                     horizontalalignment='center',\n",
    "                     verticalalignment='center')\n",
    "            \n",
    "    if triangle_numbers:\n",
    "        cogs = triangle_cog(m)\n",
    "        for i in range(cogs.shape[0]):\n",
    "            plt.text(cogs[i, 0], cogs[i, 1], str(i))\n",
    "            \n",
    "    if edge_labels or edge_numbers:\n",
    "        from edges import meshEdges\n",
    "        edge, edge_markers, ElementEdges = meshEdges(m)\n",
    "        \n",
    "    if edge_numbers:\n",
    "        for i in range(edge.shape[0]):\n",
    "            _x = np.mean(m['vertices'][edge[i,:], 0])\n",
    "            _y = np.mean(m['vertices'][edge[i,:], 1])\n",
    "            plt.text(_x, _y, str(i), color='g')\n",
    "            \n",
    "    if edge_labels:\n",
    "        for i in range(edge.shape[0]):\n",
    "            _x = np.mean(m['vertices'][edge[i,:], 0])\n",
    "            _y = np.mean(m['vertices'][edge[i,:], 1])\n",
    "            plt.text(_x, _y, edge_markers[i,0], color='g')"
   ]
  },
  {
   "cell_type": "markdown",
   "metadata": {},
   "source": [
    "### Question 1"
   ]
  },
  {
   "cell_type": "code",
   "execution_count": null,
   "metadata": {},
   "outputs": [],
   "source": [
    "# input: numbers start at 1\n",
    "g = {\n",
    "    'vertices': np.copy(np.array([[0, 3, 3, 0], [0, 0, 1.5, 1.5]]).T),\n",
    "    'segments': np.copy(np.array([[0, 1, 2, 3], [1, 2, 3, 0]]).T)\n",
    "}"
   ]
  },
  {
   "cell_type": "code",
   "execution_count": null,
   "metadata": {},
   "outputs": [],
   "source": [
    "# index starts at 0\n",
    "m1 = triangle.triangulate(g)\n",
    "pprint(m1)"
   ]
  },
  {
   "cell_type": "markdown",
   "metadata": {},
   "source": [
    "### Question 2"
   ]
  },
  {
   "cell_type": "code",
   "execution_count": null,
   "metadata": {},
   "outputs": [],
   "source": [
    "maxArea = 0.125\n",
    "m2 = triangle.triangulate(g,\"pDa\"+str(maxArea))\n",
    "print(\"Number triangles = {}\".format(m2['triangles'].shape[0]))"
   ]
  },
  {
   "cell_type": "markdown",
   "metadata": {},
   "source": [
    "### Question 3"
   ]
  },
  {
   "cell_type": "code",
   "execution_count": null,
   "metadata": {},
   "outputs": [],
   "source": [
    "plt.figure()\n",
    "plot_mesh(m2, vertex_numbers=True, triangle_numbers=True, edge_numbers=True, edge_labels=False)\n",
    "plt.axis(\"equal\")\n",
    "plt.show()"
   ]
  },
  {
   "cell_type": "markdown",
   "metadata": {},
   "source": [
    "### Question 4"
   ]
  },
  {
   "cell_type": "code",
   "execution_count": null,
   "metadata": {},
   "outputs": [],
   "source": [
    "maxArea = 0.2\n",
    "m3 = triangle.triangulate(g,\"Da\"+str(maxArea))\n",
    "area = 0.2 * (np.mean(triangle_x(m3), axis=1) ** 2)\n",
    "m3['triangle_max_area']=area\n",
    "m4=triangle.triangulate(m3,'Dra')\n",
    "print(\"Number triangles before = {}\".format(m3['triangles'].shape[0]))\n",
    "print(\"Number triangles after  = {}\".format(m4['triangles'].shape[0]))"
   ]
  },
  {
   "cell_type": "code",
   "execution_count": null,
   "metadata": {},
   "outputs": [],
   "source": [
    "plt.figure()\n",
    "plot_mesh(m4, vertex_numbers=True, triangle_numbers=True)\n",
    "plt.axis(\"equal\")\n",
    "plt.show()"
   ]
  },
  {
   "cell_type": "markdown",
   "metadata": {},
   "source": [
    "### Question 5"
   ]
  },
  {
   "cell_type": "code",
   "execution_count": null,
   "metadata": {},
   "outputs": [],
   "source": [
    "def geom_disc(n=10):\n",
    "    vert_outer = np.copy(np.array([[-1.0, 1, 1, -1],[-1, -1, 1, 1]]).T)\n",
    "    seg_outer = np.copy(np.array([[0, 1, 2, 3], [1, 2, 3, 0]]).T)\n",
    "    \n",
    "    r_circle = 0.5\n",
    "    t_circle = np.linspace(0, 2*np.pi, n, endpoint=False)\n",
    "    x_circle = r_circle*np.cos(t_circle)\n",
    "    y_circle = r_circle*np.sin(t_circle)\n",
    "    \n",
    "    vert_inner = np.hstack((x_circle[:, None], y_circle[:, None]))\n",
    "    ind_inner = np.arange(n)+4\n",
    "    seg_inner = np.hstack((ind_inner[:, None], np.roll(ind_inner, -1)[:, None]))\n",
    "    \n",
    "    g = {\n",
    "        'vertices': np.vstack((vert_outer, vert_inner)),\n",
    "        'segments': np.vstack((seg_outer, seg_inner)),\n",
    "        'holes': np.zeros((1,2)),\n",
    "    } \n",
    "    \n",
    "    m_ext = triangle.triangulate(g, 'Dpqa0.02s')\n",
    "    \n",
    "    plt.figure()\n",
    "    plot_mesh(m_ext, vertex_numbers=True, triangle_numbers=False)\n",
    "    plt.axis(\"equal\")\n",
    "    plt.show()\n",
    "    \n",
    "    return m_ext"
   ]
  },
  {
   "cell_type": "code",
   "execution_count": null,
   "metadata": {},
   "outputs": [],
   "source": [
    "m = geom_disc(20)"
   ]
  }
 ],
 "metadata": {
  "kernelspec": {
   "display_name": "Python 3",
   "language": "python",
   "name": "python3"
  },
  "language_info": {
   "codemirror_mode": {
    "name": "ipython",
    "version": 3
   },
   "file_extension": ".py",
   "mimetype": "text/x-python",
   "name": "python",
   "nbconvert_exporter": "python",
   "pygments_lexer": "ipython3",
   "version": "3.6.7"
  }
 },
 "nbformat": 4,
 "nbformat_minor": 2
}
